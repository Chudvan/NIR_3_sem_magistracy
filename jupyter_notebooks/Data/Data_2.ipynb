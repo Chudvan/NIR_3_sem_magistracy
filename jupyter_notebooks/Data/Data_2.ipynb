{
 "cells": [
  {
   "cell_type": "markdown",
   "metadata": {},
   "source": [
    "## Создание pattern'а для index'а из имени файла"
   ]
  },
  {
   "cell_type": "code",
   "execution_count": 5,
   "metadata": {},
   "outputs": [],
   "source": [
    "import os"
   ]
  },
  {
   "cell_type": "code",
   "execution_count": 6,
   "metadata": {},
   "outputs": [
    {
     "data": {
      "text/plain": [
       "['Participant 1_Ekman_Analysis 3_video_20190505_173153_state.txt',\n",
       " 'Participant 1_Ekman_Analysis 2_video_20190505_173153_detailed.txt',\n",
       " 'Participant 1_Ekman_Analysis 1_video_20190505_173152_state.txt',\n",
       " 'Participant 1_Ekman_Analysis 3_video_20190505_173153_detailed.txt',\n",
       " 'Participant 1_Ekman_Analysis 2_video_20190505_173153_state.txt',\n",
       " 'Participant 1_Ekman_Analysis 1_video_20190505_173152_detailed.txt',\n",
       " 'Participant 1_Ekman_Analysis 1_video_20190505_173152_detailed_1.csv',\n",
       " 'Ekman.mp4',\n",
       " 'Participant 1_Ekman_Analysis 1_video_20190505_173152_detailed.csv']"
      ]
     },
     "execution_count": 6,
     "metadata": {},
     "output_type": "execute_result"
    }
   ],
   "source": [
    "data_dir = ('Data_files', 'Ekman')\n",
    "files = os.listdir(os.path.join(*data_dir))\n",
    "files"
   ]
  },
  {
   "cell_type": "code",
   "execution_count": 7,
   "metadata": {},
   "outputs": [
    {
     "data": {
      "text/plain": [
       "['Participant 1_Ekman_Analysis 2_video_20190505_173153_detailed.txt',\n",
       " 'Participant 1_Ekman_Analysis 3_video_20190505_173153_detailed.txt',\n",
       " 'Participant 1_Ekman_Analysis 1_video_20190505_173152_detailed.txt',\n",
       " 'Participant 1_Ekman_Analysis 1_video_20190505_173152_detailed_1.csv',\n",
       " 'Participant 1_Ekman_Analysis 1_video_20190505_173152_detailed.csv']"
      ]
     },
     "execution_count": 7,
     "metadata": {},
     "output_type": "execute_result"
    }
   ],
   "source": [
    "files = [f for f in files if 'detailed' in f]\n",
    "files"
   ]
  },
  {
   "cell_type": "code",
   "execution_count": 8,
   "metadata": {},
   "outputs": [
    {
     "data": {
      "text/plain": [
       "5"
      ]
     },
     "execution_count": 8,
     "metadata": {},
     "output_type": "execute_result"
    }
   ],
   "source": [
    "len(files)"
   ]
  },
  {
   "cell_type": "code",
   "execution_count": 305,
   "metadata": {},
   "outputs": [],
   "source": [
    "# import re\n",
    "\n",
    "# def create_add_to_index(csv_file):\n",
    "#     res = []\n",
    "#     without_participant = re.split('Participant \\d*', csv_file)[1]\n",
    "#     fragments = re.split('Analysis ', without_participant)\n",
    "#     res.append(fragments[0])\n",
    "#     res.append(re.split('_video_', fragments[1])[0])\n",
    "#     return ''.join(res)"
   ]
  },
  {
   "cell_type": "code",
   "execution_count": 5,
   "metadata": {},
   "outputs": [],
   "source": [
    "from NeuralNetwork.tools import create_add_to_index, create_correct_df"
   ]
  },
  {
   "cell_type": "code",
   "execution_count": 6,
   "metadata": {},
   "outputs": [
    {
     "name": "stdout",
     "output_type": "stream",
     "text": [
      "_Ekman_2 : Participant 1_Ekman_Analysis 2_video_20190505_173153_detailed.txt\n",
      "_Ekman_3 : Participant 1_Ekman_Analysis 3_video_20190505_173153_detailed.txt\n",
      "_Ekman_1 : Participant 1_Ekman_Analysis 1_video_20190505_173152_detailed.txt\n",
      "_Ekman_1 : Participant 1_Ekman_Analysis 1_video_20190505_173152_detailed_1.csv\n",
      "_Ekman_1 : Participant 1_Ekman_Analysis 1_video_20190505_173152_detailed.csv\n"
     ]
    }
   ],
   "source": [
    "for csv_file in files:\n",
    "    print(create_add_to_index(csv_file), csv_file, sep=' : ')"
   ]
  },
  {
   "cell_type": "code",
   "execution_count": null,
   "metadata": {},
   "outputs": [],
   "source": []
  },
  {
   "cell_type": "markdown",
   "metadata": {},
   "source": [
    "## Объединение данных из всех файлов"
   ]
  },
  {
   "cell_type": "code",
   "execution_count": 7,
   "metadata": {},
   "outputs": [],
   "source": [
    "import pandas as pd"
   ]
  },
  {
   "cell_type": "code",
   "execution_count": 8,
   "metadata": {},
   "outputs": [
    {
     "data": {
      "text/plain": [
       "'Ekman/Participant 1_Ekman_Analysis 1_video_20190505_173152_detailed_1.csv'"
      ]
     },
     "execution_count": 8,
     "metadata": {},
     "output_type": "execute_result"
    }
   ],
   "source": [
    "csv_path = os.path.join(*data_dir, files[3])\n",
    "csv_path"
   ]
  },
  {
   "cell_type": "code",
   "execution_count": 286,
   "metadata": {},
   "outputs": [
    {
     "data": {
      "text/plain": [
       "['Participant 2_Левандовский Кирилл_Analysis 1_video_20190626_121235_detailed.csv',\n",
       " 'Participant 3_Лебедев Андрей_Analysis 1_video_20190626_121237_detailed.csv',\n",
       " 'Participant 3_Бондаренко Денис_Analysis 2_video_20190626_115718_detailed.csv',\n",
       " 'Participant 4_Турчина Екатерина_Analysis 1_video_20190626_115720_detailed.csv',\n",
       " 'Participant 1_Балакин Владислав_Analysis 1_video_20190626_121234_detailed.csv',\n",
       " 'Participant 1_Смолин Александр_Analysis 1_video_20190626_115715_detailed.csv',\n",
       " 'Participant 2_Бушунов Виктор_Analysis 1_video_20190626_115717_detailed.csv',\n",
       " 'Participant 5_Куликов Алексей_Analysis 1_video_20190626_115722_detailed.csv']"
      ]
     },
     "execution_count": 286,
     "metadata": {},
     "output_type": "execute_result"
    }
   ],
   "source": [
    "# data_dir = '/home/ivan/Рабочий стол/Учёба/Git/NIR_1_sem_magistracy/Data/092'\n",
    "# files = [file for file in os.listdir(data_dir) if 'Participant' in file]\n",
    "# files"
   ]
  },
  {
   "cell_type": "code",
   "execution_count": 31,
   "metadata": {},
   "outputs": [],
   "source": [
    "# f = open(csv_path)\n",
    "# f.seek(16545)\n",
    "# f.readline()"
   ]
  },
  {
   "cell_type": "markdown",
   "metadata": {},
   "source": [
    "Внёс правки в\n",
    "def create_correct_df(dir_, file) // Data_2(other).ipynb - 2 версия:\n",
    "\n",
    "! Теперь прототип выглядит так: def create_correct_df(dir_, file, encoding=None)\n",
    "\n",
    "! Теперь открываются любые .csv, .txt файлы данных (которые содержат 'detailed' в имени)\n",
    "\n",
    "! Если возникает ошибка: \"UnicodeDecodeError: 'utf-8' codec can't decode byte 0xee in position 16521: invalid continuation byte\"\n",
    "=> нужно добавить аргумент 'encoding=\"ISO-8859-1\"' // скриншот 4"
   ]
  },
  {
   "cell_type": "code",
   "execution_count": 309,
   "metadata": {},
   "outputs": [],
   "source": [
    "# def replace_end_symb(csv_path, encoding=None):\n",
    "#     if not encoding:\n",
    "#         encoding = \"UTF-8\"\n",
    "#     f = open(csv_path, encoding = encoding)\n",
    "#     text = f.read()\n",
    "#     text = text.replace('\\t\\n', '\\n')\n",
    "#     f.close()\n",
    "#     f = open(csv_path, 'w', encoding = encoding)\n",
    "#     f.write(text)\n",
    "#     f.close()"
   ]
  },
  {
   "cell_type": "code",
   "execution_count": 310,
   "metadata": {},
   "outputs": [],
   "source": [
    "# def create_correct_df(dir_, file, encoding=None):\n",
    "#     if not encoding:\n",
    "#         encoding = \"UTF-8\"\n",
    "#     csv_path = os.path.join(dir_, file)\n",
    "#     replace_end_symb(csv_path, encoding)\n",
    "#     df = pd.read_csv(csv_path, sep='\\t', skiprows = lambda i: i in list(range(8)), encoding = encoding)\n",
    "#     if len(df.columns) < 70:\n",
    "#         df = pd.read_csv(csv_path, sep=';', skiprows = lambda i: i in list(range(8)), encoding = encoding)\n",
    "#     df_first = df.columns[0]\n",
    "#     unknown_index = list(df.columns).index('Event Marker')\n",
    "#     df.columns = df.columns[1:].insert(unknown_index, 'UNKNOWN')\n",
    "#     df.insert(0, df_first, df.index)\n",
    "#     add_to_index = create_add_to_index(file)\n",
    "#     df.index = [index + add_to_index for index in df.index]\n",
    "#     return df"
   ]
  },
  {
   "cell_type": "code",
   "execution_count": 183,
   "metadata": {},
   "outputs": [
    {
     "data": {
      "text/plain": [
       "0       00:00.0\n",
       "1       00:00.1\n",
       "2       00:00.1\n",
       "3       00:00.2\n",
       "4       00:00.3\n",
       "         ...   \n",
       "1794    01:59.7\n",
       "1795    01:59.8\n",
       "1796    01:59.9\n",
       "1797    01:59.9\n",
       "1798    02:00.0\n",
       "Name: Video Time, Length: 1799, dtype: object"
      ]
     },
     "execution_count": 183,
     "metadata": {},
     "output_type": "execute_result"
    }
   ],
   "source": [
    "# df = pd.read_csv(csv_path, sep=';', skiprows = lambda i: i in range(8), encoding = \"ISO-8859-1\")\n",
    "# # для files[3]: 'Ekman/Participant 1_Ekman_Analysis 1_video_20190505_173152_detailed_1.csv'\n",
    "# df['Video Time']"
   ]
  },
  {
   "cell_type": "code",
   "execution_count": 9,
   "metadata": {},
   "outputs": [
    {
     "data": {
      "text/html": [
       "<div>\n",
       "<style scoped>\n",
       "    .dataframe tbody tr th:only-of-type {\n",
       "        vertical-align: middle;\n",
       "    }\n",
       "\n",
       "    .dataframe tbody tr th {\n",
       "        vertical-align: top;\n",
       "    }\n",
       "\n",
       "    .dataframe thead th {\n",
       "        text-align: right;\n",
       "    }\n",
       "</style>\n",
       "<table border=\"1\" class=\"dataframe\">\n",
       "  <thead>\n",
       "    <tr style=\"text-align: right;\">\n",
       "      <th></th>\n",
       "      <th>Video Time</th>\n",
       "      <th>Neutral</th>\n",
       "      <th>Happy</th>\n",
       "      <th>Sad</th>\n",
       "      <th>Angry</th>\n",
       "      <th>Surprised</th>\n",
       "      <th>Scared</th>\n",
       "      <th>Disgusted</th>\n",
       "      <th>Contempt</th>\n",
       "      <th>Valence</th>\n",
       "      <th>...</th>\n",
       "      <th>Heart Rate Warnings</th>\n",
       "      <th>Stimulus</th>\n",
       "      <th>Event Marker</th>\n",
       "      <th>UNKNOWN</th>\n",
       "      <th>Participant Name</th>\n",
       "      <th>Analysis Index</th>\n",
       "      <th>Talking</th>\n",
       "      <th>Chewing</th>\n",
       "      <th>Taking a bite</th>\n",
       "      <th>Chew motion</th>\n",
       "    </tr>\n",
       "  </thead>\n",
       "  <tbody>\n",
       "    <tr>\n",
       "      <th>00:00.0_Ekman_1</th>\n",
       "      <td>00:00.0</td>\n",
       "      <td>FIND_FAILED</td>\n",
       "      <td>FIND_FAILED</td>\n",
       "      <td>FIND_FAILED</td>\n",
       "      <td>FIND_FAILED</td>\n",
       "      <td>FIND_FAILED</td>\n",
       "      <td>FIND_FAILED</td>\n",
       "      <td>FIND_FAILED</td>\n",
       "      <td>FIND_FAILED</td>\n",
       "      <td>FIND_FAILED</td>\n",
       "      <td>...</td>\n",
       "      <td>FIND_FAILED</td>\n",
       "      <td>No Stimulus</td>\n",
       "      <td>No Event Marker</td>\n",
       "      <td>FIND_FAILED</td>\n",
       "      <td>Ekman</td>\n",
       "      <td>Analysis 1</td>\n",
       "      <td>FIND_FAILED</td>\n",
       "      <td>FIND_FAILED</td>\n",
       "      <td>FIND_FAILED</td>\n",
       "      <td>FIND_FAILED</td>\n",
       "    </tr>\n",
       "    <tr>\n",
       "      <th>00:00.1_Ekman_1</th>\n",
       "      <td>00:00.1</td>\n",
       "      <td>FIND_FAILED</td>\n",
       "      <td>FIND_FAILED</td>\n",
       "      <td>FIND_FAILED</td>\n",
       "      <td>FIND_FAILED</td>\n",
       "      <td>FIND_FAILED</td>\n",
       "      <td>FIND_FAILED</td>\n",
       "      <td>FIND_FAILED</td>\n",
       "      <td>FIND_FAILED</td>\n",
       "      <td>FIND_FAILED</td>\n",
       "      <td>...</td>\n",
       "      <td>FIND_FAILED</td>\n",
       "      <td>No Stimulus</td>\n",
       "      <td>No Event Marker</td>\n",
       "      <td>FIND_FAILED</td>\n",
       "      <td>Ekman</td>\n",
       "      <td>Analysis 1</td>\n",
       "      <td>FIND_FAILED</td>\n",
       "      <td>FIND_FAILED</td>\n",
       "      <td>FIND_FAILED</td>\n",
       "      <td>FIND_FAILED</td>\n",
       "    </tr>\n",
       "    <tr>\n",
       "      <th>00:00.1_Ekman_1</th>\n",
       "      <td>00:00.1</td>\n",
       "      <td>FIND_FAILED</td>\n",
       "      <td>FIND_FAILED</td>\n",
       "      <td>FIND_FAILED</td>\n",
       "      <td>FIND_FAILED</td>\n",
       "      <td>FIND_FAILED</td>\n",
       "      <td>FIND_FAILED</td>\n",
       "      <td>FIND_FAILED</td>\n",
       "      <td>FIND_FAILED</td>\n",
       "      <td>FIND_FAILED</td>\n",
       "      <td>...</td>\n",
       "      <td>FIND_FAILED</td>\n",
       "      <td>No Stimulus</td>\n",
       "      <td>No Event Marker</td>\n",
       "      <td>FIND_FAILED</td>\n",
       "      <td>Ekman</td>\n",
       "      <td>Analysis 1</td>\n",
       "      <td>FIND_FAILED</td>\n",
       "      <td>FIND_FAILED</td>\n",
       "      <td>FIND_FAILED</td>\n",
       "      <td>FIND_FAILED</td>\n",
       "    </tr>\n",
       "    <tr>\n",
       "      <th>00:00.2_Ekman_1</th>\n",
       "      <td>00:00.2</td>\n",
       "      <td>FIND_FAILED</td>\n",
       "      <td>FIND_FAILED</td>\n",
       "      <td>FIND_FAILED</td>\n",
       "      <td>FIND_FAILED</td>\n",
       "      <td>FIND_FAILED</td>\n",
       "      <td>FIND_FAILED</td>\n",
       "      <td>FIND_FAILED</td>\n",
       "      <td>FIND_FAILED</td>\n",
       "      <td>FIND_FAILED</td>\n",
       "      <td>...</td>\n",
       "      <td>FIND_FAILED</td>\n",
       "      <td>No Stimulus</td>\n",
       "      <td>No Event Marker</td>\n",
       "      <td>FIND_FAILED</td>\n",
       "      <td>Ekman</td>\n",
       "      <td>Analysis 1</td>\n",
       "      <td>FIND_FAILED</td>\n",
       "      <td>FIND_FAILED</td>\n",
       "      <td>FIND_FAILED</td>\n",
       "      <td>FIND_FAILED</td>\n",
       "    </tr>\n",
       "    <tr>\n",
       "      <th>00:00.3_Ekman_1</th>\n",
       "      <td>00:00.3</td>\n",
       "      <td>FIND_FAILED</td>\n",
       "      <td>FIND_FAILED</td>\n",
       "      <td>FIND_FAILED</td>\n",
       "      <td>FIND_FAILED</td>\n",
       "      <td>FIND_FAILED</td>\n",
       "      <td>FIND_FAILED</td>\n",
       "      <td>FIND_FAILED</td>\n",
       "      <td>FIND_FAILED</td>\n",
       "      <td>FIND_FAILED</td>\n",
       "      <td>...</td>\n",
       "      <td>FIND_FAILED</td>\n",
       "      <td>No Stimulus</td>\n",
       "      <td>No Event Marker</td>\n",
       "      <td>FIND_FAILED</td>\n",
       "      <td>Ekman</td>\n",
       "      <td>Analysis 1</td>\n",
       "      <td>FIND_FAILED</td>\n",
       "      <td>FIND_FAILED</td>\n",
       "      <td>FIND_FAILED</td>\n",
       "      <td>FIND_FAILED</td>\n",
       "    </tr>\n",
       "    <tr>\n",
       "      <th>...</th>\n",
       "      <td>...</td>\n",
       "      <td>...</td>\n",
       "      <td>...</td>\n",
       "      <td>...</td>\n",
       "      <td>...</td>\n",
       "      <td>...</td>\n",
       "      <td>...</td>\n",
       "      <td>...</td>\n",
       "      <td>...</td>\n",
       "      <td>...</td>\n",
       "      <td>...</td>\n",
       "      <td>...</td>\n",
       "      <td>...</td>\n",
       "      <td>...</td>\n",
       "      <td>...</td>\n",
       "      <td>...</td>\n",
       "      <td>...</td>\n",
       "      <td>...</td>\n",
       "      <td>...</td>\n",
       "      <td>...</td>\n",
       "      <td>...</td>\n",
       "    </tr>\n",
       "    <tr>\n",
       "      <th>01:59.7_Ekman_1</th>\n",
       "      <td>01:59.7</td>\n",
       "      <td>0.7377318</td>\n",
       "      <td>0</td>\n",
       "      <td>0</td>\n",
       "      <td>0.007890538</td>\n",
       "      <td>0.000001933</td>\n",
       "      <td>0.004171156</td>\n",
       "      <td>0.00000023</td>\n",
       "      <td>0.000000098</td>\n",
       "      <td>-0.007890538</td>\n",
       "      <td>...</td>\n",
       "      <td>Frame rate too low</td>\n",
       "      <td>No Stimulus</td>\n",
       "      <td>No Event Marker</td>\n",
       "      <td>UNKNOWN</td>\n",
       "      <td>Ekman</td>\n",
       "      <td>Analysis 1</td>\n",
       "      <td>No</td>\n",
       "      <td>No</td>\n",
       "      <td>No</td>\n",
       "      <td>No</td>\n",
       "    </tr>\n",
       "    <tr>\n",
       "      <th>01:59.8_Ekman_1</th>\n",
       "      <td>01:59.8</td>\n",
       "      <td>0.7400798</td>\n",
       "      <td>0</td>\n",
       "      <td>0</td>\n",
       "      <td>0.006460657</td>\n",
       "      <td>0.000001583</td>\n",
       "      <td>0.003415281</td>\n",
       "      <td>0.000000188</td>\n",
       "      <td>0.00000008</td>\n",
       "      <td>-0.006460657</td>\n",
       "      <td>...</td>\n",
       "      <td>Frame rate too low</td>\n",
       "      <td>No Stimulus</td>\n",
       "      <td>No Event Marker</td>\n",
       "      <td>UNKNOWN</td>\n",
       "      <td>Ekman</td>\n",
       "      <td>Analysis 1</td>\n",
       "      <td>No</td>\n",
       "      <td>No</td>\n",
       "      <td>No</td>\n",
       "      <td>No</td>\n",
       "    </tr>\n",
       "    <tr>\n",
       "      <th>01:59.9_Ekman_1</th>\n",
       "      <td>01:59.9</td>\n",
       "      <td>0.7396011</td>\n",
       "      <td>0</td>\n",
       "      <td>0</td>\n",
       "      <td>0.005289891</td>\n",
       "      <td>0.000001296</td>\n",
       "      <td>0.002796382</td>\n",
       "      <td>0.000000154</td>\n",
       "      <td>0.000000066</td>\n",
       "      <td>-0.005289891</td>\n",
       "      <td>...</td>\n",
       "      <td>Frame rate too low</td>\n",
       "      <td>No Stimulus</td>\n",
       "      <td>No Event Marker</td>\n",
       "      <td>UNKNOWN</td>\n",
       "      <td>Ekman</td>\n",
       "      <td>Analysis 1</td>\n",
       "      <td>No</td>\n",
       "      <td>No</td>\n",
       "      <td>No</td>\n",
       "      <td>No</td>\n",
       "    </tr>\n",
       "    <tr>\n",
       "      <th>01:59.9_Ekman_1</th>\n",
       "      <td>01:59.9</td>\n",
       "      <td>0.7363629</td>\n",
       "      <td>0</td>\n",
       "      <td>0</td>\n",
       "      <td>0.004331285</td>\n",
       "      <td>0.000001061</td>\n",
       "      <td>0.002289637</td>\n",
       "      <td>0.000000126</td>\n",
       "      <td>0.000000054</td>\n",
       "      <td>-0.004331285</td>\n",
       "      <td>...</td>\n",
       "      <td>Frame rate too low</td>\n",
       "      <td>No Stimulus</td>\n",
       "      <td>No Event Marker</td>\n",
       "      <td>UNKNOWN</td>\n",
       "      <td>Ekman</td>\n",
       "      <td>Analysis 1</td>\n",
       "      <td>No</td>\n",
       "      <td>No</td>\n",
       "      <td>No</td>\n",
       "      <td>No</td>\n",
       "    </tr>\n",
       "    <tr>\n",
       "      <th>02:00.0_Ekman_1</th>\n",
       "      <td>02:00.0</td>\n",
       "      <td>0.7287672</td>\n",
       "      <td>0</td>\n",
       "      <td>0</td>\n",
       "      <td>0.003546392</td>\n",
       "      <td>0.000000869</td>\n",
       "      <td>0.001874721</td>\n",
       "      <td>0.000000103</td>\n",
       "      <td>0.000000044</td>\n",
       "      <td>-0.003546392</td>\n",
       "      <td>...</td>\n",
       "      <td>Frame rate too low</td>\n",
       "      <td>No Stimulus</td>\n",
       "      <td>No Event Marker</td>\n",
       "      <td>UNKNOWN</td>\n",
       "      <td>Ekman</td>\n",
       "      <td>Analysis 1</td>\n",
       "      <td>No</td>\n",
       "      <td>No</td>\n",
       "      <td>No</td>\n",
       "      <td>No</td>\n",
       "    </tr>\n",
       "  </tbody>\n",
       "</table>\n",
       "<p>1799 rows × 82 columns</p>\n",
       "</div>"
      ],
      "text/plain": [
       "                Video Time      Neutral        Happy          Sad  \\\n",
       "00:00.0_Ekman_1    00:00.0  FIND_FAILED  FIND_FAILED  FIND_FAILED   \n",
       "00:00.1_Ekman_1    00:00.1  FIND_FAILED  FIND_FAILED  FIND_FAILED   \n",
       "00:00.1_Ekman_1    00:00.1  FIND_FAILED  FIND_FAILED  FIND_FAILED   \n",
       "00:00.2_Ekman_1    00:00.2  FIND_FAILED  FIND_FAILED  FIND_FAILED   \n",
       "00:00.3_Ekman_1    00:00.3  FIND_FAILED  FIND_FAILED  FIND_FAILED   \n",
       "...                    ...          ...          ...          ...   \n",
       "01:59.7_Ekman_1    01:59.7    0.7377318            0            0   \n",
       "01:59.8_Ekman_1    01:59.8    0.7400798            0            0   \n",
       "01:59.9_Ekman_1    01:59.9    0.7396011            0            0   \n",
       "01:59.9_Ekman_1    01:59.9    0.7363629            0            0   \n",
       "02:00.0_Ekman_1    02:00.0    0.7287672            0            0   \n",
       "\n",
       "                       Angry    Surprised       Scared    Disgusted  \\\n",
       "00:00.0_Ekman_1  FIND_FAILED  FIND_FAILED  FIND_FAILED  FIND_FAILED   \n",
       "00:00.1_Ekman_1  FIND_FAILED  FIND_FAILED  FIND_FAILED  FIND_FAILED   \n",
       "00:00.1_Ekman_1  FIND_FAILED  FIND_FAILED  FIND_FAILED  FIND_FAILED   \n",
       "00:00.2_Ekman_1  FIND_FAILED  FIND_FAILED  FIND_FAILED  FIND_FAILED   \n",
       "00:00.3_Ekman_1  FIND_FAILED  FIND_FAILED  FIND_FAILED  FIND_FAILED   \n",
       "...                      ...          ...          ...          ...   \n",
       "01:59.7_Ekman_1  0.007890538  0.000001933  0.004171156   0.00000023   \n",
       "01:59.8_Ekman_1  0.006460657  0.000001583  0.003415281  0.000000188   \n",
       "01:59.9_Ekman_1  0.005289891  0.000001296  0.002796382  0.000000154   \n",
       "01:59.9_Ekman_1  0.004331285  0.000001061  0.002289637  0.000000126   \n",
       "02:00.0_Ekman_1  0.003546392  0.000000869  0.001874721  0.000000103   \n",
       "\n",
       "                    Contempt       Valence  ... Heart Rate Warnings  \\\n",
       "00:00.0_Ekman_1  FIND_FAILED   FIND_FAILED  ...         FIND_FAILED   \n",
       "00:00.1_Ekman_1  FIND_FAILED   FIND_FAILED  ...         FIND_FAILED   \n",
       "00:00.1_Ekman_1  FIND_FAILED   FIND_FAILED  ...         FIND_FAILED   \n",
       "00:00.2_Ekman_1  FIND_FAILED   FIND_FAILED  ...         FIND_FAILED   \n",
       "00:00.3_Ekman_1  FIND_FAILED   FIND_FAILED  ...         FIND_FAILED   \n",
       "...                      ...           ...  ...                 ...   \n",
       "01:59.7_Ekman_1  0.000000098  -0.007890538  ...  Frame rate too low   \n",
       "01:59.8_Ekman_1   0.00000008  -0.006460657  ...  Frame rate too low   \n",
       "01:59.9_Ekman_1  0.000000066  -0.005289891  ...  Frame rate too low   \n",
       "01:59.9_Ekman_1  0.000000054  -0.004331285  ...  Frame rate too low   \n",
       "02:00.0_Ekman_1  0.000000044  -0.003546392  ...  Frame rate too low   \n",
       "\n",
       "                    Stimulus     Event Marker      UNKNOWN Participant Name  \\\n",
       "00:00.0_Ekman_1  No Stimulus  No Event Marker  FIND_FAILED            Ekman   \n",
       "00:00.1_Ekman_1  No Stimulus  No Event Marker  FIND_FAILED            Ekman   \n",
       "00:00.1_Ekman_1  No Stimulus  No Event Marker  FIND_FAILED            Ekman   \n",
       "00:00.2_Ekman_1  No Stimulus  No Event Marker  FIND_FAILED            Ekman   \n",
       "00:00.3_Ekman_1  No Stimulus  No Event Marker  FIND_FAILED            Ekman   \n",
       "...                      ...              ...          ...              ...   \n",
       "01:59.7_Ekman_1  No Stimulus  No Event Marker      UNKNOWN            Ekman   \n",
       "01:59.8_Ekman_1  No Stimulus  No Event Marker      UNKNOWN            Ekman   \n",
       "01:59.9_Ekman_1  No Stimulus  No Event Marker      UNKNOWN            Ekman   \n",
       "01:59.9_Ekman_1  No Stimulus  No Event Marker      UNKNOWN            Ekman   \n",
       "02:00.0_Ekman_1  No Stimulus  No Event Marker      UNKNOWN            Ekman   \n",
       "\n",
       "                Analysis Index      Talking      Chewing Taking a bite  \\\n",
       "00:00.0_Ekman_1     Analysis 1  FIND_FAILED  FIND_FAILED   FIND_FAILED   \n",
       "00:00.1_Ekman_1     Analysis 1  FIND_FAILED  FIND_FAILED   FIND_FAILED   \n",
       "00:00.1_Ekman_1     Analysis 1  FIND_FAILED  FIND_FAILED   FIND_FAILED   \n",
       "00:00.2_Ekman_1     Analysis 1  FIND_FAILED  FIND_FAILED   FIND_FAILED   \n",
       "00:00.3_Ekman_1     Analysis 1  FIND_FAILED  FIND_FAILED   FIND_FAILED   \n",
       "...                        ...          ...          ...           ...   \n",
       "01:59.7_Ekman_1     Analysis 1           No           No            No   \n",
       "01:59.8_Ekman_1     Analysis 1           No           No            No   \n",
       "01:59.9_Ekman_1     Analysis 1           No           No            No   \n",
       "01:59.9_Ekman_1     Analysis 1           No           No            No   \n",
       "02:00.0_Ekman_1     Analysis 1           No           No            No   \n",
       "\n",
       "                 Chew motion  \n",
       "00:00.0_Ekman_1  FIND_FAILED  \n",
       "00:00.1_Ekman_1  FIND_FAILED  \n",
       "00:00.1_Ekman_1  FIND_FAILED  \n",
       "00:00.2_Ekman_1  FIND_FAILED  \n",
       "00:00.3_Ekman_1  FIND_FAILED  \n",
       "...                      ...  \n",
       "01:59.7_Ekman_1           No  \n",
       "01:59.8_Ekman_1           No  \n",
       "01:59.9_Ekman_1           No  \n",
       "01:59.9_Ekman_1           No  \n",
       "02:00.0_Ekman_1           No  \n",
       "\n",
       "[1799 rows x 82 columns]"
      ]
     },
     "execution_count": 9,
     "metadata": {},
     "output_type": "execute_result"
    }
   ],
   "source": [
    "df = create_correct_df(data_dir, files[3], \"ISO-8859-1\")\n",
    "df"
   ]
  },
  {
   "cell_type": "code",
   "execution_count": null,
   "metadata": {},
   "outputs": [],
   "source": []
  }
 ],
 "metadata": {
  "kernelspec": {
   "display_name": "Python 3 (ipykernel)",
   "language": "python",
   "name": "python3"
  },
  "language_info": {
   "codemirror_mode": {
    "name": "ipython",
    "version": 3
   },
   "file_extension": ".py",
   "mimetype": "text/x-python",
   "name": "python",
   "nbconvert_exporter": "python",
   "pygments_lexer": "ipython3",
   "version": "3.9.1"
  }
 },
 "nbformat": 4,
 "nbformat_minor": 4
}
